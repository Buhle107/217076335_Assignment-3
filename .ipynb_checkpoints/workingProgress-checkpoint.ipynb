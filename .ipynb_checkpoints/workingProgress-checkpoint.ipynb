{
 "cells": [
  {
   "cell_type": "markdown",
   "id": "a96a6599",
   "metadata": {},
   "source": [
    "# Exam Scores\n",
    "\n",
    "## Author: Buhle Maphela\n",
    "### Student No: 217076335\n",
    "### Due Date: 14 April 2023\n",
    "### Github url: \n"
   ]
  },
  {
   "cell_type": "markdown",
   "id": "055ae7a2",
   "metadata": {},
   "source": [
    "# Reading my data "
   ]
  },
  {
   "cell_type": "code",
   "execution_count": 28,
   "id": "b165adfb",
   "metadata": {},
   "outputs": [
    {
     "data": {
      "text/html": [
       "<div>\n",
       "<style scoped>\n",
       "    .dataframe tbody tr th:only-of-type {\n",
       "        vertical-align: middle;\n",
       "    }\n",
       "\n",
       "    .dataframe tbody tr th {\n",
       "        vertical-align: top;\n",
       "    }\n",
       "\n",
       "    .dataframe thead th {\n",
       "        text-align: right;\n",
       "    }\n",
       "</style>\n",
       "<table border=\"1\" class=\"dataframe\">\n",
       "  <thead>\n",
       "    <tr style=\"text-align: right;\">\n",
       "      <th></th>\n",
       "      <th>Gender</th>\n",
       "      <th>Race/Ethnicity</th>\n",
       "      <th>Parental level of education</th>\n",
       "      <th>Math score</th>\n",
       "      <th>Reading score</th>\n",
       "      <th>Writing score</th>\n",
       "    </tr>\n",
       "  </thead>\n",
       "  <tbody>\n",
       "    <tr>\n",
       "      <th>0</th>\n",
       "      <td>female</td>\n",
       "      <td>Indian</td>\n",
       "      <td>College</td>\n",
       "      <td>59</td>\n",
       "      <td>70</td>\n",
       "      <td>78</td>\n",
       "    </tr>\n",
       "    <tr>\n",
       "      <th>1</th>\n",
       "      <td>male</td>\n",
       "      <td>Indian</td>\n",
       "      <td>Diploma</td>\n",
       "      <td>96</td>\n",
       "      <td>93</td>\n",
       "      <td>87</td>\n",
       "    </tr>\n",
       "    <tr>\n",
       "      <th>2</th>\n",
       "      <td>female</td>\n",
       "      <td>Indian</td>\n",
       "      <td>College</td>\n",
       "      <td>57</td>\n",
       "      <td>76</td>\n",
       "      <td>77</td>\n",
       "    </tr>\n",
       "    <tr>\n",
       "      <th>3</th>\n",
       "      <td>male</td>\n",
       "      <td>White</td>\n",
       "      <td>College</td>\n",
       "      <td>70</td>\n",
       "      <td>70</td>\n",
       "      <td>63</td>\n",
       "    </tr>\n",
       "    <tr>\n",
       "      <th>4</th>\n",
       "      <td>female</td>\n",
       "      <td>Indian</td>\n",
       "      <td>Diploma</td>\n",
       "      <td>83</td>\n",
       "      <td>85</td>\n",
       "      <td>86</td>\n",
       "    </tr>\n",
       "    <tr>\n",
       "      <th>...</th>\n",
       "      <td>...</td>\n",
       "      <td>...</td>\n",
       "      <td>...</td>\n",
       "      <td>...</td>\n",
       "      <td>...</td>\n",
       "      <td>...</td>\n",
       "    </tr>\n",
       "    <tr>\n",
       "      <th>115</th>\n",
       "      <td>female</td>\n",
       "      <td>Indian</td>\n",
       "      <td>Degree</td>\n",
       "      <td>98</td>\n",
       "      <td>95</td>\n",
       "      <td>100</td>\n",
       "    </tr>\n",
       "    <tr>\n",
       "      <th>116</th>\n",
       "      <td>female</td>\n",
       "      <td>Indian</td>\n",
       "      <td>High school</td>\n",
       "      <td>90</td>\n",
       "      <td>96</td>\n",
       "      <td>88</td>\n",
       "    </tr>\n",
       "    <tr>\n",
       "      <th>117</th>\n",
       "      <td>male</td>\n",
       "      <td>Coloured</td>\n",
       "      <td>High school</td>\n",
       "      <td>64</td>\n",
       "      <td>71</td>\n",
       "      <td>68</td>\n",
       "    </tr>\n",
       "    <tr>\n",
       "      <th>118</th>\n",
       "      <td>female</td>\n",
       "      <td>White</td>\n",
       "      <td>High school</td>\n",
       "      <td>38</td>\n",
       "      <td>55</td>\n",
       "      <td>52</td>\n",
       "    </tr>\n",
       "    <tr>\n",
       "      <th>119</th>\n",
       "      <td>female</td>\n",
       "      <td>White</td>\n",
       "      <td>Degree</td>\n",
       "      <td>84</td>\n",
       "      <td>91</td>\n",
       "      <td>93</td>\n",
       "    </tr>\n",
       "  </tbody>\n",
       "</table>\n",
       "<p>120 rows × 6 columns</p>\n",
       "</div>"
      ],
      "text/plain": [
       "     Gender Race/Ethnicity Parental level of education  Math score  \\\n",
       "0    female         Indian                     College          59   \n",
       "1      male         Indian                     Diploma          96   \n",
       "2    female         Indian                     College          57   \n",
       "3      male          White                     College          70   \n",
       "4    female         Indian                     Diploma          83   \n",
       "..      ...            ...                         ...         ...   \n",
       "115  female         Indian                      Degree          98   \n",
       "116  female         Indian                 High school          90   \n",
       "117    male       Coloured                 High school          64   \n",
       "118  female          White                 High school          38   \n",
       "119  female          White                      Degree          84   \n",
       "\n",
       "     Reading score  Writing score  \n",
       "0               70             78  \n",
       "1               93             87  \n",
       "2               76             77  \n",
       "3               70             63  \n",
       "4               85             86  \n",
       "..             ...            ...  \n",
       "115             95            100  \n",
       "116             96             88  \n",
       "117             71             68  \n",
       "118             55             52  \n",
       "119             91             93  \n",
       "\n",
       "[120 rows x 6 columns]"
      ]
     },
     "execution_count": 28,
     "metadata": {},
     "output_type": "execute_result"
    }
   ],
   "source": [
    "import pandas as pd\n",
    "\n",
    "exams_df = pd.read_excel('C:\\\\Users\\\\buhle\\\\Downloads\\\\Data set\\\\exam scores.xlsx')\n",
    "exams_df"
   ]
  },
  {
   "cell_type": "code",
   "execution_count": 29,
   "id": "fbf7ea55",
   "metadata": {},
   "outputs": [
    {
     "name": "stdout",
     "output_type": "stream",
     "text": [
      "<class 'pandas.core.frame.DataFrame'>\n",
      "RangeIndex: 120 entries, 0 to 119\n",
      "Data columns (total 6 columns):\n",
      " #   Column                       Non-Null Count  Dtype \n",
      "---  ------                       --------------  ----- \n",
      " 0   Gender                       120 non-null    object\n",
      " 1   Race/Ethnicity               120 non-null    object\n",
      " 2   Parental level of education  120 non-null    object\n",
      " 3   Math score                   120 non-null    int64 \n",
      " 4   Reading score                120 non-null    int64 \n",
      " 5   Writing score                120 non-null    int64 \n",
      "dtypes: int64(3), object(3)\n",
      "memory usage: 5.8+ KB\n"
     ]
    }
   ],
   "source": [
    "exams_df.info()"
   ]
  },
  {
   "cell_type": "markdown",
   "id": "e02a2782",
   "metadata": {},
   "source": []
  },
  {
   "cell_type": "markdown",
   "id": "b5050179",
   "metadata": {},
   "source": [
    "## Cleaning my dataset"
   ]
  },
  {
   "cell_type": "code",
   "execution_count": 18,
   "id": "65a0149e",
   "metadata": {},
   "outputs": [],
   "source": [
    "exams_dfClean = exams_df"
   ]
  },
  {
   "cell_type": "code",
   "execution_count": 22,
   "id": "b748b597",
   "metadata": {},
   "outputs": [],
   "source": [
    "exams_dfClean['Gender'] = exams_dfClean['Gender'].replace({'female' : 1, 'male':0})\n",
    "\n",
    "exams_dfClean['Race/Ethnicity'] = exams_dfClean['Race/Ethnicity'].replace({'African' : 1, 'White' :2, 'Coloured' :3, 'Indian' :4})\n",
    "exams_dfClean['Parental level of education'] = exams_dfClean['Parental level of education'].replace({'High school' :1, 'College' :2, 'Diploma' :3, 'Degree' : 4,\"Master's degree\" :5})\n",
    "\n"
   ]
  },
  {
   "cell_type": "markdown",
   "id": "d220cfa7",
   "metadata": {},
   "source": [
    "## Descriptive Statistics"
   ]
  },
  {
   "cell_type": "markdown",
   "id": "9f37ebea",
   "metadata": {},
   "source": [
    "### MEAN"
   ]
  },
  {
   "cell_type": "code",
   "execution_count": 26,
   "id": "9da587d4",
   "metadata": {},
   "outputs": [
    {
     "data": {
      "text/html": [
       "<div>\n",
       "<style scoped>\n",
       "    .dataframe tbody tr th:only-of-type {\n",
       "        vertical-align: middle;\n",
       "    }\n",
       "\n",
       "    .dataframe tbody tr th {\n",
       "        vertical-align: top;\n",
       "    }\n",
       "\n",
       "    .dataframe thead th {\n",
       "        text-align: right;\n",
       "    }\n",
       "</style>\n",
       "<table border=\"1\" class=\"dataframe\">\n",
       "  <thead>\n",
       "    <tr style=\"text-align: right;\">\n",
       "      <th></th>\n",
       "      <th>Mean</th>\n",
       "    </tr>\n",
       "  </thead>\n",
       "  <tbody>\n",
       "    <tr>\n",
       "      <th>Gender</th>\n",
       "      <td>0.491667</td>\n",
       "    </tr>\n",
       "    <tr>\n",
       "      <th>Race/Ethnicity</th>\n",
       "      <td>2.900000</td>\n",
       "    </tr>\n",
       "    <tr>\n",
       "      <th>Parental level of education</th>\n",
       "      <td>2.391667</td>\n",
       "    </tr>\n",
       "    <tr>\n",
       "      <th>Math score</th>\n",
       "      <td>69.650000</td>\n",
       "    </tr>\n",
       "    <tr>\n",
       "      <th>Reading score</th>\n",
       "      <td>72.333333</td>\n",
       "    </tr>\n",
       "    <tr>\n",
       "      <th>Writing score</th>\n",
       "      <td>70.850000</td>\n",
       "    </tr>\n",
       "  </tbody>\n",
       "</table>\n",
       "</div>"
      ],
      "text/plain": [
       "                                  Mean\n",
       "Gender                        0.491667\n",
       "Race/Ethnicity                2.900000\n",
       "Parental level of education   2.391667\n",
       "Math score                   69.650000\n",
       "Reading score                72.333333\n",
       "Writing score                70.850000"
      ]
     },
     "execution_count": 26,
     "metadata": {},
     "output_type": "execute_result"
    }
   ],
   "source": [
    "# average = exams_df[['Gender', 'Race/Ethnicity','Parental level of education', 'Math score', 'Reading score', 'Writing score']].mean()\n",
    "# average\n",
    "\n",
    "means = exams_dfClean.mean()\n",
    "dataframe = pd.DataFrame({'Mean':means})\n",
    "dataframe\n",
    "\n"
   ]
  },
  {
   "cell_type": "code",
   "execution_count": null,
   "id": "6580c364",
   "metadata": {},
   "outputs": [],
   "source": []
  },
  {
   "cell_type": "code",
   "execution_count": null,
   "id": "d9d1544b",
   "metadata": {},
   "outputs": [],
   "source": []
  }
 ],
 "metadata": {
  "kernelspec": {
   "display_name": "Python 3 (ipykernel)",
   "language": "python",
   "name": "python3"
  },
  "language_info": {
   "codemirror_mode": {
    "name": "ipython",
    "version": 3
   },
   "file_extension": ".py",
   "mimetype": "text/x-python",
   "name": "python",
   "nbconvert_exporter": "python",
   "pygments_lexer": "ipython3",
   "version": "3.10.9"
  }
 },
 "nbformat": 4,
 "nbformat_minor": 5
}
